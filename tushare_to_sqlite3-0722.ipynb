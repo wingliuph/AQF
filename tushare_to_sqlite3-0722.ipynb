{
 "cells": [
  {
   "cell_type": "code",
   "execution_count": 7,
   "metadata": {
    "collapsed": true
   },
   "outputs": [],
   "source": [
    "import pandas as pd\n",
    "import numpy as np\n",
    "import tushare as ts\n",
    "import datetime\n",
    "import time, datetime"
   ]
  },
  {
   "cell_type": "code",
   "execution_count": 8,
   "metadata": {
    "scrolled": true
   },
   "outputs": [],
   "source": [
    "#连接tushare\n",
    "pro = ts.pro_api('31e6c92e6133d112d8ee557bb245044fde5daab04104598620f23921')\n",
    "df = df = pro.index_daily(ts_code='399300.SZ', start_date='20200720', end_date='20200721')"
   ]
  },
  {
   "cell_type": "code",
   "execution_count": 9,
   "metadata": {},
   "outputs": [
    {
     "data": {
      "text/html": [
       "<div>\n",
       "<style scoped>\n",
       "    .dataframe tbody tr th:only-of-type {\n",
       "        vertical-align: middle;\n",
       "    }\n",
       "\n",
       "    .dataframe tbody tr th {\n",
       "        vertical-align: top;\n",
       "    }\n",
       "\n",
       "    .dataframe thead th {\n",
       "        text-align: right;\n",
       "    }\n",
       "</style>\n",
       "<table border=\"1\" class=\"dataframe\">\n",
       "  <thead>\n",
       "    <tr style=\"text-align: right;\">\n",
       "      <th></th>\n",
       "      <th>ts_code</th>\n",
       "      <th>trade_date</th>\n",
       "      <th>close</th>\n",
       "      <th>open</th>\n",
       "      <th>high</th>\n",
       "      <th>low</th>\n",
       "      <th>pre_close</th>\n",
       "      <th>change</th>\n",
       "      <th>pct_chg</th>\n",
       "      <th>vol</th>\n",
       "      <th>amount</th>\n",
       "    </tr>\n",
       "  </thead>\n",
       "  <tbody>\n",
       "    <tr>\n",
       "      <th>0</th>\n",
       "      <td>399300.SZ</td>\n",
       "      <td>20200721</td>\n",
       "      <td>4691.0425</td>\n",
       "      <td>4697.5026</td>\n",
       "      <td>4714.2925</td>\n",
       "      <td>4661.4440</td>\n",
       "      <td>4680.3046</td>\n",
       "      <td>10.7379</td>\n",
       "      <td>0.2294</td>\n",
       "      <td>200415659.0</td>\n",
       "      <td>356069805.7</td>\n",
       "    </tr>\n",
       "    <tr>\n",
       "      <th>1</th>\n",
       "      <td>399300.SZ</td>\n",
       "      <td>20200720</td>\n",
       "      <td>4680.3046</td>\n",
       "      <td>4597.2038</td>\n",
       "      <td>4681.9431</td>\n",
       "      <td>4534.2305</td>\n",
       "      <td>4544.7007</td>\n",
       "      <td>135.6039</td>\n",
       "      <td>2.9838</td>\n",
       "      <td>246068914.0</td>\n",
       "      <td>416714222.2</td>\n",
       "    </tr>\n",
       "  </tbody>\n",
       "</table>\n",
       "</div>"
      ],
      "text/plain": [
       "     ts_code trade_date      close       open       high        low  \\\n",
       "0  399300.SZ   20200721  4691.0425  4697.5026  4714.2925  4661.4440   \n",
       "1  399300.SZ   20200720  4680.3046  4597.2038  4681.9431  4534.2305   \n",
       "\n",
       "   pre_close    change  pct_chg          vol       amount  \n",
       "0  4680.3046   10.7379   0.2294  200415659.0  356069805.7  \n",
       "1  4544.7007  135.6039   2.9838  246068914.0  416714222.2  "
      ]
     },
     "execution_count": 9,
     "metadata": {},
     "output_type": "execute_result"
    }
   ],
   "source": [
    "df"
   ]
  },
  {
   "cell_type": "code",
   "execution_count": 18,
   "metadata": {},
   "outputs": [
    {
     "data": {
      "text/html": [
       "<div>\n",
       "<style scoped>\n",
       "    .dataframe tbody tr th:only-of-type {\n",
       "        vertical-align: middle;\n",
       "    }\n",
       "\n",
       "    .dataframe tbody tr th {\n",
       "        vertical-align: top;\n",
       "    }\n",
       "\n",
       "    .dataframe thead th {\n",
       "        text-align: right;\n",
       "    }\n",
       "</style>\n",
       "<table border=\"1\" class=\"dataframe\">\n",
       "  <thead>\n",
       "    <tr style=\"text-align: right;\">\n",
       "      <th></th>\n",
       "      <th>high</th>\n",
       "      <th>trade_date</th>\n",
       "    </tr>\n",
       "  </thead>\n",
       "  <tbody>\n",
       "    <tr>\n",
       "      <th>0</th>\n",
       "      <td>6.53</td>\n",
       "      <td>20200721</td>\n",
       "    </tr>\n",
       "    <tr>\n",
       "      <th>1</th>\n",
       "      <td>6.48</td>\n",
       "      <td>20200720</td>\n",
       "    </tr>\n",
       "  </tbody>\n",
       "</table>\n",
       "</div>"
      ],
      "text/plain": [
       "   high trade_date\n",
       "0  6.53   20200721\n",
       "1  6.48   20200720"
      ]
     },
     "execution_count": 18,
     "metadata": {},
     "output_type": "execute_result"
    }
   ],
   "source": [
    "df[['high','trade_date']]"
   ]
  },
  {
   "cell_type": "code",
   "execution_count": 11,
   "metadata": {},
   "outputs": [
    {
     "data": {
      "text/html": [
       "<div>\n",
       "<style scoped>\n",
       "    .dataframe tbody tr th:only-of-type {\n",
       "        vertical-align: middle;\n",
       "    }\n",
       "\n",
       "    .dataframe tbody tr th {\n",
       "        vertical-align: top;\n",
       "    }\n",
       "\n",
       "    .dataframe thead th {\n",
       "        text-align: right;\n",
       "    }\n",
       "</style>\n",
       "<table border=\"1\" class=\"dataframe\">\n",
       "  <thead>\n",
       "    <tr style=\"text-align: right;\">\n",
       "      <th></th>\n",
       "      <th>ts_code</th>\n",
       "      <th>trade_date</th>\n",
       "      <th>open</th>\n",
       "      <th>high</th>\n",
       "      <th>low</th>\n",
       "      <th>close</th>\n",
       "      <th>pre_close</th>\n",
       "      <th>change</th>\n",
       "      <th>pct_chg</th>\n",
       "      <th>vol</th>\n",
       "      <th>amount</th>\n",
       "    </tr>\n",
       "  </thead>\n",
       "  <tbody>\n",
       "    <tr>\n",
       "      <th>0</th>\n",
       "      <td>600366.SH</td>\n",
       "      <td>20200721</td>\n",
       "      <td>6.43</td>\n",
       "      <td>6.53</td>\n",
       "      <td>6.36</td>\n",
       "      <td>6.44</td>\n",
       "      <td>6.44</td>\n",
       "      <td>0.00</td>\n",
       "      <td>0.000</td>\n",
       "      <td>234510.99</td>\n",
       "      <td>150748.756</td>\n",
       "    </tr>\n",
       "    <tr>\n",
       "      <th>1</th>\n",
       "      <td>600366.SH</td>\n",
       "      <td>20200720</td>\n",
       "      <td>6.13</td>\n",
       "      <td>6.48</td>\n",
       "      <td>6.13</td>\n",
       "      <td>6.44</td>\n",
       "      <td>6.11</td>\n",
       "      <td>0.33</td>\n",
       "      <td>5.401</td>\n",
       "      <td>367330.69</td>\n",
       "      <td>233637.510</td>\n",
       "    </tr>\n",
       "  </tbody>\n",
       "</table>\n",
       "</div>"
      ],
      "text/plain": [
       "     ts_code trade_date  open  high   low  close  pre_close  change  pct_chg  \\\n",
       "0  600366.SH   20200721  6.43  6.53  6.36   6.44       6.44    0.00    0.000   \n",
       "1  600366.SH   20200720  6.13  6.48  6.13   6.44       6.11    0.33    5.401   \n",
       "\n",
       "         vol      amount  \n",
       "0  234510.99  150748.756  \n",
       "1  367330.69  233637.510  "
      ]
     },
     "execution_count": 11,
     "metadata": {},
     "output_type": "execute_result"
    }
   ],
   "source": [
    "dfg = df = pro.daily(ts_code='600366.SH', start_date='20200720', end_date='20200721')\n",
    "dfg"
   ]
  },
  {
   "cell_type": "code",
   "execution_count": 15,
   "metadata": {},
   "outputs": [],
   "source": [
    "ff = dfg['close1']\n",
    "dfg.drop(columns='close1',inplace=True)\n",
    "dfg.insert(2,'close',ff)"
   ]
  },
  {
   "cell_type": "code",
   "execution_count": 16,
   "metadata": {},
   "outputs": [
    {
     "data": {
      "text/html": [
       "<div>\n",
       "<style scoped>\n",
       "    .dataframe tbody tr th:only-of-type {\n",
       "        vertical-align: middle;\n",
       "    }\n",
       "\n",
       "    .dataframe tbody tr th {\n",
       "        vertical-align: top;\n",
       "    }\n",
       "\n",
       "    .dataframe thead th {\n",
       "        text-align: right;\n",
       "    }\n",
       "</style>\n",
       "<table border=\"1\" class=\"dataframe\">\n",
       "  <thead>\n",
       "    <tr style=\"text-align: right;\">\n",
       "      <th></th>\n",
       "      <th>ts_code</th>\n",
       "      <th>trade_date</th>\n",
       "      <th>close</th>\n",
       "      <th>open</th>\n",
       "      <th>high</th>\n",
       "      <th>low</th>\n",
       "      <th>pre_close</th>\n",
       "      <th>change</th>\n",
       "      <th>pct_chg</th>\n",
       "      <th>vol</th>\n",
       "      <th>amount</th>\n",
       "    </tr>\n",
       "  </thead>\n",
       "  <tbody>\n",
       "    <tr>\n",
       "      <th>0</th>\n",
       "      <td>600366.SH</td>\n",
       "      <td>20200721</td>\n",
       "      <td>6.44</td>\n",
       "      <td>6.43</td>\n",
       "      <td>6.53</td>\n",
       "      <td>6.36</td>\n",
       "      <td>6.44</td>\n",
       "      <td>0.00</td>\n",
       "      <td>0.000</td>\n",
       "      <td>234510.99</td>\n",
       "      <td>150748.756</td>\n",
       "    </tr>\n",
       "    <tr>\n",
       "      <th>1</th>\n",
       "      <td>600366.SH</td>\n",
       "      <td>20200720</td>\n",
       "      <td>6.44</td>\n",
       "      <td>6.13</td>\n",
       "      <td>6.48</td>\n",
       "      <td>6.13</td>\n",
       "      <td>6.11</td>\n",
       "      <td>0.33</td>\n",
       "      <td>5.401</td>\n",
       "      <td>367330.69</td>\n",
       "      <td>233637.510</td>\n",
       "    </tr>\n",
       "  </tbody>\n",
       "</table>\n",
       "</div>"
      ],
      "text/plain": [
       "     ts_code trade_date  close  open  high   low  pre_close  change  pct_chg  \\\n",
       "0  600366.SH   20200721   6.44  6.43  6.53  6.36       6.44    0.00    0.000   \n",
       "1  600366.SH   20200720   6.44  6.13  6.48  6.13       6.11    0.33    5.401   \n",
       "\n",
       "         vol      amount  \n",
       "0  234510.99  150748.756  \n",
       "1  367330.69  233637.510  "
      ]
     },
     "execution_count": 16,
     "metadata": {},
     "output_type": "execute_result"
    }
   ],
   "source": [
    "dfg"
   ]
  },
  {
   "cell_type": "code",
   "execution_count": 49,
   "metadata": {
    "collapsed": true
   },
   "outputs": [],
   "source": [
    "class STOCK():\n",
    "\n",
    "    _prefix_url = \"https://hq.sinajs.cn/list=\"\n",
    "\n",
    "    #中国指数\n",
    "    def index(self, code):\n",
    "        exchange = \"sz\" if (code[:3] == \"399\") else \"sh\"\n",
    "        url = self._prefix_url + exchange + code       #http://hq.sinajs.cn/list=s_sh000001\n",
    "        info = self.http_request(url)\n",
    "        result = self.data_format(info)\n",
    "        return pd.DataFrame(result,index=[0])\n",
    "\n",
    "    #美股，港股指数\n",
    "    def index_world(self, ex_code):\n",
    "        url = self._prefix_url + ex_code       #http://hq.sinajs.cn/list=s_sh000001\n",
    "        info = self.http_request(url)\n",
    "        result = self.data_format(info)\n",
    "        return pd.DataFrame(result,index=[0])\n",
    "\n",
    "    #中国个股\n",
    "    def individual(self, code):\n",
    "        if ((code[:3] == \"600\") | (code[:3] == \"900\") | (code[:3] == \"688\")):   #上证A股600，上证B股900，科创板688\n",
    "            exchange = \"sh\"\n",
    "        elif ((code[:2] == \"43\") | (code[:2] == \"83\") | (code[:2] == \"87\")): #新三板43和83，87\n",
    "            exchange = \"sb\"\n",
    "        elif ((code[:3] == \"000\") | (code[:3] == \"200\")): #深证A股000，深证B股200\n",
    "            exchange = \"sz\"\n",
    "        elif ((code[:3] == \"002\")): #中小板002\n",
    "            exchange = \"sz\"\n",
    "        elif ((code[:3] == \"300\")): #创业板300\n",
    "            exchange = \"sz\"\n",
    "        # else:\n",
    "            # exchange = \"sz\"        #其他默认sz\n",
    "        url = self._prefix_url + exchange + code\n",
    "        info = self.http_request(url)\n",
    "        result = self.data_format(info)\n",
    "        return pd.DataFrame(result,index=[0])\n",
    "    #数据标准化函数\n",
    "    def data_format(self, data):\n",
    "        rawdata = re.search('(\")(.+)(\")', data).group(2)\n",
    "        stockdata = rawdata.split(\",\")\n",
    "        if ((stockdata[0] == \"道琼斯\") | (stockdata[0] == \"纳斯达克\") | (stockdata[0] == \"标普500指数\")):\n",
    "            ts = int(time.mktime(time.strptime(stockdata[3], \"%Y-%m-%d %H:%M:%S\")))\n",
    "            tss=time.strftime(\"%Y-%m-%d %H:%M:%S\",time.localtime(ts))#转换成标准日期\n",
    "            ttss=pd.to_datetime(tss,format='%Y-%m-%d').date()\n",
    "            dict = {\n",
    "                    'time': ttss,\n",
    "                    'open': float(stockdata[5]),\n",
    "                    'high': float(stockdata[6]),\n",
    "                    'low': float(stockdata[7]),\n",
    "                    'close': float(stockdata[1]),\n",
    "                    'amount': None,\n",
    "                    'volume': float(stockdata[10]), #成交量\n",
    "                    'code': code,\n",
    "                    'name': stockdata[0]\n",
    "                    \n",
    "                    }\n",
    "\n",
    "        elif (stockdata[1] == \"恒生指数\"):\n",
    "            ts = int(time.mktime(time.strptime('%s %s'%(stockdata[17],stockdata[18]) , \"%Y/%m/%d %H:%M:%S\")))\n",
    "            tss=time.strftime(\"%Y-%m-%d %H:%M:%S\",time.localtime(ts))#转换成标准日期\n",
    "            ttss=pd.to_datetime(tss,format='%Y-%m-%d').date()\n",
    "            dict = {'time': ttss,  \n",
    "                    'open': float(stockdata[2]),\n",
    "                    'high': float(stockdata[4]),\n",
    "                    'low': float(stockdata[5]),\n",
    "                    'close': float(stockdata[6]),\n",
    "                    'amount': float(stockdata[11]),       #成交额\n",
    "                    'volume': None,       #成交量\n",
    "                    'code': code,\n",
    "                    'name': stockdata[1]\n",
    "                    }\n",
    "        else:\n",
    "            ts = int(time.mktime(time.strptime('%s %s'%(stockdata[30],stockdata[31]) , \"%Y-%m-%d %H:%M:%S\")))\n",
    "            tss=time.strftime(\"%Y-%m-%d %H:%M:%S\",time.localtime(ts))#转换成标准日期\n",
    "            ttss=pd.to_datetime(tss,format='%Y-%m-%d').date()\n",
    "            dict = {'time': ttss,                    \n",
    "                    'open': float(stockdata[1]),\n",
    "                    'high': float(stockdata[4]),\n",
    "                    'low': float(stockdata[5]),\n",
    "                    'close': float(stockdata[3]),\n",
    "                    'amount': float(stockdata[9]),       #成交额\n",
    "                    'volume': float(stockdata[8]),       #成交量\n",
    "                    'code': code,\n",
    "                    'name': stockdata[0]\n",
    "                    }\n",
    "        return dict\n",
    "\n",
    "    # HTTP请求\n",
    "    def http_request(self, url):\n",
    "        try:\n",
    "            req = urllib.request.Request(url)\n",
    "            req.add_header('User-Agent', 'Mozilla/5.0 (Windows NT 6.1; WOW64) AppleWebKit/537.36 (KHTML, like Gecko) Chrome/39.0.2171.71 Safari/537.36')\n",
    "            r = urllib.request.urlopen(req)\n",
    "            result = r.read().decode('gb2312')\n",
    "            return result\n",
    "        except Exception as e:\n",
    "            print([url, repr(e)])"
   ]
  },
  {
   "cell_type": "code",
   "execution_count": 50,
   "metadata": {
    "collapsed": true
   },
   "outputs": [],
   "source": [
    "if __name__ == \"__main__\":\n",
    "    result =[]\n",
    "    sql=\"insert into sz_daily (date_id,open1,high,low,close,amount,vol,code_id) values(%s,%s,%s,%s,%s,%s,%s,%s)\"\n",
    "    stock = STOCK() #创建类对象\n",
    "    #遍历国内主要指数\n",
    "    chinaindexes = [\n",
    "        \"000001\", # sh000001 上证指数\n",
    "        \"399001\", # sz399001 深证成指\n",
    "        \"000300\", # sh000300 沪深300\n",
    "        \"399005\", # sz399005 中小板指\n",
    "        \"399006\", # sz399006 创业板指\n",
    "        \n",
    "    ]\n",
    "    conn = pymysql.connect(host='127.0.0.1', port=3306, user='root', passwd='123', db='tdx')\n",
    "    cursor = conn.cursor()  #连接数据库  \n",
    "    for code in chinaindexes:\n",
    "        result.append(stock.index(code))\n",
    " "
   ]
  },
  {
   "cell_type": "code",
   "execution_count": 51,
   "metadata": {},
   "outputs": [
    {
     "data": {
      "text/plain": [
       "list"
      ]
     },
     "execution_count": 51,
     "metadata": {},
     "output_type": "execute_result"
    }
   ],
   "source": [
    "type(result)"
   ]
  },
  {
   "cell_type": "code",
   "execution_count": 52,
   "metadata": {},
   "outputs": [
    {
     "data": {
      "text/html": [
       "<div>\n",
       "<style scoped>\n",
       "    .dataframe tbody tr th:only-of-type {\n",
       "        vertical-align: middle;\n",
       "    }\n",
       "\n",
       "    .dataframe tbody tr th {\n",
       "        vertical-align: top;\n",
       "    }\n",
       "\n",
       "    .dataframe thead th {\n",
       "        text-align: right;\n",
       "    }\n",
       "</style>\n",
       "<table border=\"1\" class=\"dataframe\">\n",
       "  <thead>\n",
       "    <tr style=\"text-align: right;\">\n",
       "      <th></th>\n",
       "      <th>time</th>\n",
       "      <th>open</th>\n",
       "      <th>high</th>\n",
       "      <th>low</th>\n",
       "      <th>close</th>\n",
       "      <th>amount</th>\n",
       "      <th>volume</th>\n",
       "      <th>code</th>\n",
       "      <th>name</th>\n",
       "    </tr>\n",
       "  </thead>\n",
       "  <tbody>\n",
       "    <tr>\n",
       "      <th>0</th>\n",
       "      <td>2020-07-20</td>\n",
       "      <td>13303.803</td>\n",
       "      <td>13448.85</td>\n",
       "      <td>13032.396</td>\n",
       "      <td>13448.85</td>\n",
       "      <td>6.490005e+11</td>\n",
       "      <td>4.935472e+10</td>\n",
       "      <td>399001</td>\n",
       "      <td>深证成指</td>\n",
       "    </tr>\n",
       "  </tbody>\n",
       "</table>\n",
       "</div>"
      ],
      "text/plain": [
       "         time       open      high        low     close        amount  \\\n",
       "0  2020-07-20  13303.803  13448.85  13032.396  13448.85  6.490005e+11   \n",
       "\n",
       "         volume    code  name  \n",
       "0  4.935472e+10  399001  深证成指  "
      ]
     },
     "execution_count": 52,
     "metadata": {},
     "output_type": "execute_result"
    }
   ],
   "source": [
    "result[1]\n"
   ]
  },
  {
   "cell_type": "code",
   "execution_count": null,
   "metadata": {
    "collapsed": true
   },
   "outputs": [],
   "source": [
    "        result['time']=pd.to_datetime(result['time'],format='%Y-%m-%d').date()\n",
    "        #cursor.execute(sql,dl)# 每日的数据添加一次，不再汇总后添加\n",
    "        #conn.commit() \n",
    "    #cursor.close()     # 关闭游标\n",
    "    #conn.close()      # 关闭连接"
   ]
  },
  {
   "cell_type": "code",
   "execution_count": null,
   "metadata": {
    "collapsed": true
   },
   "outputs": [],
   "source": []
  },
  {
   "cell_type": "code",
   "execution_count": null,
   "metadata": {
    "collapsed": true
   },
   "outputs": [],
   "source": [
    "    #遍历国内股票\n",
    "    chinastockes = [\n",
    "        \"000063\",   #中兴通讯\n",
    "        \"688029\",   #科创板\n",
    "    ]\n",
    "    for code in chinastockes:\n",
    "        result = stock.individual(code)\n",
    "        print(result)"
   ]
  },
  {
   "cell_type": "code",
   "execution_count": null,
   "metadata": {
    "collapsed": true
   },
   "outputs": [],
   "source": [
    "    #美股，港股指数\n",
    "    # https://hq.sinajs.cn/list=int_dji,int_nasdaq,int_sp500,int_hangseng 简版\n",
    "    # https://hq.sinajs.cn/list=gb_dji,gb_ixic,gb_inx,rt_hkHSI              复杂版\n",
    "    worldstockes = [\n",
    "        \"gb_dji\",   #  道琼斯\n",
    "        \"gb_ixic\",  #  纳斯达克\n",
    "        \"gb_inx\",   #  标普指数\n",
    "        \"rt_hkHSI\", #  恒生指数\n",
    "    ]\n",
    "    for code in worldstockes:\n",
    "        result = stock.index_world(code)\n",
    "        print(result)"
   ]
  }
 ],
 "metadata": {
  "kernelspec": {
   "display_name": "Python 3",
   "language": "python",
   "name": "python3"
  },
  "language_info": {
   "codemirror_mode": {
    "name": "ipython",
    "version": 3
   },
   "file_extension": ".py",
   "mimetype": "text/x-python",
   "name": "python",
   "nbconvert_exporter": "python",
   "pygments_lexer": "ipython3",
   "version": "3.6.1"
  },
  "toc": {
   "base_numbering": 1,
   "nav_menu": {},
   "number_sections": true,
   "sideBar": true,
   "skip_h1_title": false,
   "title_cell": "Table of Contents",
   "title_sidebar": "Contents",
   "toc_cell": false,
   "toc_position": {},
   "toc_section_display": true,
   "toc_window_display": false
  }
 },
 "nbformat": 4,
 "nbformat_minor": 2
}
