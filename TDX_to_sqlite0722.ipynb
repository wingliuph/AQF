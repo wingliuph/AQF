{
 "cells": [
  {
   "cell_type": "code",
   "execution_count": 1,
   "metadata": {},
   "outputs": [],
   "source": [
    "import sys\n",
    "import pandas as pd\n",
    "import tushare as ts\n",
    "import sqlite3\n",
    "import os\n",
    "import glob\n",
    "import copy\n",
    "import datetime\n",
    "import numpy as np\n",
    "from struct import *"
   ]
  },
  {
   "cell_type": "code",
   "execution_count": 2,
   "metadata": {},
   "outputs": [],
   "source": [
    "pro = ts.pro_api('31e6c92e6133d112d8ee557bb245044fde5daab04104598620f23921')\n",
    "#df = pro.index_daily(ts_code='399300.SZ', start_date='20180101', end_date='20181010')\n",
    "df = pro.index_daily(ts_code='399300.SZ')     #读取沪深300\n",
    "df905 = pro.index_daily(ts_code='000905.SH')     #读取沪深300"
   ]
  },
  {
   "cell_type": "code",
   "execution_count": 56,
   "metadata": {},
   "outputs": [],
   "source": [
    "#df1 = df.drop(columns=['pre_close', 'change'])\n",
    "df9051 = df905.drop(columns=['pre_close', 'change'])\n",
    "#df1['name'] = '沪深300'\n",
    "\n",
    "df9051['name'] = '中证500'"
   ]
  },
  {
   "cell_type": "code",
   "execution_count": 60,
   "metadata": {
    "scrolled": false
   },
   "outputs": [],
   "source": [
    "def Savetosqlite3(sql,df,DB_Name = 'F:\\sqlite3\\\\tdx.db'):    \n",
    "    \n",
    "    conn = sqlite3.connect(DB_Name)  \n",
    "    cursor = conn.cursor()    # 向STUDENT表插入数据的SQL语句\n",
    "    print('连接数据库%s成功' % (DB_Name))\n",
    "\n",
    "    refresh_date = datetime.date.today() #今天日期\n",
    "    sql='insert into index_daily(ts_code,trade_date,close,open,high,low,pct_chg,vol,amount,name) values(?,?,?,?,?,?,?,?,?,?)'\n",
    "    for i in range(len(df)-1):\n",
    "        try:\n",
    "            cursor.execute(sql,df.iloc[i])    #每日的数据添加一次，不再汇总后添加\n",
    "            conn.commit()             \n",
    "        except Exception as e:\n",
    "            print(e)        \n",
    "            conn.rollback() # 回滚\n",
    "            print('插入数据到表失败')               \n",
    "    print ('沪深300' + ' ，has been saved in SQLite.TDX的 '+'  交易所中!' )\n",
    "    conn.close()        # 关闭数据库  "
   ]
  },
  {
   "cell_type": "code",
   "execution_count": 61,
   "metadata": {},
   "outputs": [
    {
     "name": "stdout",
     "output_type": "stream",
     "text": [
      "连接数据库F:\\sqlite3\\tdx.db成功\n",
      "沪深300 ，has been saved in SQLite.TDX的   交易所中!\n",
      "刘老板，任务执行完毕，请查看Navicat！\n"
     ]
    }
   ],
   "source": [
    "if __name__ == \"__main__\":\n",
    "    sql='insert into index_daily(ts_code,trade_date,close,open,high,low,pct_chg,vol,amount,name) values(?,?,?,?,?,?,?,?,?,?)'\n",
    "    DB_Name = 'F:\\sqlite3\\\\tdx.db'\n",
    "    #jiexiTDX_daily(jiaoyisuo='SZ',DB_Name = 'E:\\sqlite3\\\\tdx.db')\n",
    "    #jiexiTDX_daily(jiaoyisuo='SH',DB_Name = 'E:\\sqlite3\\\\tdx.db')\n",
    "    Savetosqlite3(sql,df9051,DB_Name)\n",
    "    print('刘老板，任务执行完毕，请查看Navicat！')"
   ]
  },
  {
   "cell_type": "code",
   "execution_count": null,
   "metadata": {
    "collapsed": true
   },
   "outputs": [],
   "source": []
  }
 ],
 "metadata": {
  "kernelspec": {
   "display_name": "Python 3",
   "language": "python",
   "name": "python3"
  },
  "language_info": {
   "codemirror_mode": {
    "name": "ipython",
    "version": 3
   },
   "file_extension": ".py",
   "mimetype": "text/x-python",
   "name": "python",
   "nbconvert_exporter": "python",
   "pygments_lexer": "ipython3",
   "version": "3.7.6"
  },
  "toc": {
   "base_numbering": 1,
   "nav_menu": {},
   "number_sections": true,
   "sideBar": true,
   "skip_h1_title": false,
   "title_cell": "Table of Contents",
   "title_sidebar": "Contents",
   "toc_cell": false,
   "toc_position": {},
   "toc_section_display": true,
   "toc_window_display": false
  }
 },
 "nbformat": 4,
 "nbformat_minor": 2
}
